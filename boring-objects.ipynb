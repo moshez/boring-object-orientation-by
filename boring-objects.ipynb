{
 "cells": [
  {
   "cell_type": "code",
   "execution_count": 2,
   "metadata": {
    "tags": [
     "no_markdown"
    ]
   },
   "outputs": [],
   "source": [
    "from __future__ import annotations"
   ]
  },
  {
   "cell_type": "markdown",
   "metadata": {},
   "source": [
    "```{=latex}\n",
    "\\usepackage{hyperref}\n",
    "\\usepackage{graphicx}\n",
    "\\usepackage{listings}\n",
    "\\usepackage{textcomp}\n",
    "\\usepackage{fancyvrb}\n",
    "\n",
    "\\newcommand{\\passthrough}[1]{\\lstset{mathescape=false}#1\\lstset{mathescape=true}}\n",
    "```"
   ]
  },
  {
   "cell_type": "markdown",
   "metadata": {},
   "source": [
    "```{=latex}\n",
    "\\title{Boring Object Orientation}\n",
    "\\author{Moshe Zadka -- https://cobordism.com}\n",
    "\\date{2021}\n",
    "\n",
    "\\begin{document}\n",
    "\\begin{titlepage}\n",
    "\\maketitle\n",
    "\\end{titlepage}\n",
    "\n",
    "\\frame{\\titlepage}\n",
    "```"
   ]
  },
  {
   "cell_type": "markdown",
   "metadata": {},
   "source": [
    "```{=latex}\n",
    "\\begin{frame}\n",
    "\\frametitle{Acknowledgement of Country}\n",
    "\n",
    "Belmont (in San Francisco Bay Area Peninsula)\n",
    "\n",
    "Ancestral homeland of the Ramaytush Ohlone\n",
    "\n",
    "\\end{frame}\n",
    "```"
   ]
  },
  {
   "cell_type": "markdown",
   "metadata": {},
   "source": [
    "## OO Python"
   ]
  },
  {
   "cell_type": "markdown",
   "metadata": {},
   "source": [
    "### Python and object  programming"
   ]
  },
  {
   "cell_type": "markdown",
   "metadata": {},
   "source": [
    "```{=latex}\n",
    "\\begin{frame}[fragile]\n",
    "\\frametitle{Python and object oriented programming}\n",
    "\n",
    "Everything is an object\n",
    "\\end{frame}\n",
    "```"
   ]
  },
  {
   "cell_type": "markdown",
   "metadata": {},
   "source": [
    "### Why OO design principles"
   ]
  },
  {
   "cell_type": "markdown",
   "metadata": {},
   "source": [
    "```{=latex}\n",
    "\\begin{frame}[fragile]\n",
    "\\frametitle{Why OO design principles?}\n",
    "\n",
    "Guidelines to code that is easy to maintain\n",
    "\\end{frame}\n",
    "```"
   ]
  },
  {
   "cell_type": "markdown",
   "metadata": {},
   "source": [
    "### Do OO design principles work?"
   ]
  },
  {
   "cell_type": "markdown",
   "metadata": {},
   "source": [
    "```{=latex}\n",
    "\\begin{frame}[fragile]\n",
    "\\frametitle{Do OO design principles work?}\n",
    "\n",
    "Yes\n",
    "\\pause\n",
    "...but\n",
    "\\end{frame}\n",
    "```\n"
   ]
  },
  {
   "cell_type": "markdown",
   "metadata": {},
   "source": [
    "### Principles"
   ]
  },
  {
   "cell_type": "markdown",
   "metadata": {},
   "source": [
    "```{=latex}\n",
    "\\begin{frame}[fragile]\n",
    "\\frametitle{Principles}\n",
    "\n",
    "Make your objects more boring!\n",
    "The simple tricks that they don't want you to know!\n",
    "\n",
    "\\begin{itemize}\n",
    "\\item Declare interfaces\\pause \n",
    "\\item Simplify initialization\\pause\n",
    "\\item Avoid mutation\\pause\n",
    "\\item Avoid hiding\\pause\n",
    "\\item Avoid methods\\pause\n",
    "\\item Avoid inheritance\n",
    "\\end{itemize}\n",
    "\n",
    "\\end{frame}\n"
   ]
  },
  {
   "cell_type": "markdown",
   "metadata": {},
   "source": [
    "## Interfaces"
   ]
  },
  {
   "cell_type": "markdown",
   "metadata": {},
   "source": [
    "### Why declare interfaces"
   ]
  },
  {
   "cell_type": "markdown",
   "metadata": {},
   "source": [
    "```{=latex}\n",
    "\n",
    "\\begin{frame}[fragile]\n",
    "\\frametitle{Why declare interfaces?}\n",
    "\n",
    "Explicit is better than implicit\n",
    "\\end{frame}\n",
    "```"
   ]
  },
  {
   "cell_type": "markdown",
   "metadata": {},
   "source": [
    "### Declaring interfaces with zope.interface"
   ]
  },
  {
   "cell_type": "markdown",
   "metadata": {},
   "source": [
    "```{=latex}\n",
    "\\begin{frame}[fragile]\n",
    "\\frametitle{Declaring interfaces with zope.interface}\n",
    "```"
   ]
  },
  {
   "cell_type": "code",
   "execution_count": 3,
   "metadata": {},
   "outputs": [],
   "source": [
    "from zope import interface\n",
    "\n",
    "class ISprite(interface.Interface):\n",
    "\n",
    "    bounding_box = interface.Attribute(\n",
    "        \"The bounding box\"\n",
    "    )\n",
    "\n",
    "    def intersects(box):\n",
    "        \"Does this intersect with a box\""
   ]
  },
  {
   "cell_type": "markdown",
   "metadata": {},
   "source": [
    "```{=latex}\n",
    "\\end{frame}\n",
    "```"
   ]
  },
  {
   "cell_type": "markdown",
   "metadata": {},
   "source": [
    "### Testing for interface provision"
   ]
  },
  {
   "cell_type": "markdown",
   "metadata": {},
   "source": [
    "```{=latex}\n",
    "\\begin{frame}[fragile]\n",
    "\\frametitle{Testing for interface provision}\n",
    "```"
   ]
  },
  {
   "cell_type": "code",
   "execution_count": 51,
   "metadata": {},
   "outputs": [],
   "source": [
    "from zope.interface import verify\n",
    "\n",
    "def test_implementation():\n",
    "    sprite = make_sprite()\n",
    "    verify.verifyObject(ISprite, sprite)"
   ]
  },
  {
   "cell_type": "markdown",
   "metadata": {},
   "source": [
    "```{=latex}\n",
    "\\end{frame}\n",
    "```"
   ]
  },
  {
   "cell_type": "markdown",
   "metadata": {},
   "source": [
    "## Boring constructors"
   ]
  },
  {
   "cell_type": "markdown",
   "metadata": {},
   "source": [
    "        \n",
    "### Interesting constructors"
   ]
  },
  {
   "cell_type": "markdown",
   "metadata": {},
   "source": [
    "```{=latex}\n",
    "\\begin{frame}[fragile]\n",
    "\\frametitle{Interesting constructors}\n",
    "```"
   ]
  },
  {
   "cell_type": "code",
   "execution_count": 52,
   "metadata": {},
   "outputs": [],
   "source": [
    "class Stuff:\n",
    "\n",
    "    def __init__(self, fname):\n",
    "        # Create a new object\n",
    "        self.destination = Destination()\n",
    "        # Call a system call\n",
    "        self.finput = open(fname)"
   ]
  },
  {
   "cell_type": "markdown",
   "metadata": {},
   "source": [
    "```{=latex}\n",
    "\\end{frame}\n",
    "```"
   ]
  },
  {
   "cell_type": "markdown",
   "metadata": {},
   "source": [
    "### Boring constructors"
   ]
  },
  {
   "cell_type": "markdown",
   "metadata": {},
   "source": [
    "```{=latex}\n",
    "\\begin{frame}[fragile]\n",
    "\\frametitle{Boring constructors}\n",
    "```"
   ]
  },
  {
   "cell_type": "code",
   "execution_count": 53,
   "metadata": {},
   "outputs": [],
   "source": [
    "class Stuff:\n",
    "\n",
    "    def __init__(self, finput, destination):\n",
    "        self.destination = destination\n",
    "        self.finput = finput\n",
    "\n",
    "    @classmethod\n",
    "    def from_name(cls, name):\n",
    "        # Create a new object\n",
    "        destination = Destination()\n",
    "        # Call a system call\n",
    "        finput = open(fname)\n",
    "        return cls(finput, destination)"
   ]
  },
  {
   "cell_type": "markdown",
   "metadata": {},
   "source": [
    "```{=latex}\n",
    "\\end{frame}\n",
    "```"
   ]
  },
  {
   "cell_type": "markdown",
   "metadata": {},
   "source": [
    "### Why boring constructors"
   ]
  },
  {
   "cell_type": "markdown",
   "metadata": {},
   "source": [
    "```{=latex}\n",
    "\\begin{frame}[fragile]\n",
    "\\frametitle{Why boring constructors?}\n",
    "\n",
    "\\begin{itemize}\n",
    "\\item Testing\\pause \n",
    "\\item Correctness\\pause\n",
    "\\item Async\\pause\n",
    "\\end{itemize}\n",
    "\n",
    "\\end{frame}\n",
    "```"
   ]
  },
  {
   "cell_type": "markdown",
   "metadata": {},
   "source": [
    "### Using attrs"
   ]
  },
  {
   "cell_type": "markdown",
   "metadata": {},
   "source": [
    "```{=latex}\n",
    "\\begin{frame}[fragile]\n",
    "\\frametitle{Using attrs}\n",
    "```"
   ]
  },
  {
   "cell_type": "code",
   "execution_count": 54,
   "metadata": {},
   "outputs": [],
   "source": [
    "import attr\n",
    "\n",
    "@attr.s(auto_attribs=True)\n",
    "class Stuff:\n",
    "    finput: Any\n",
    "    destination: Any"
   ]
  },
  {
   "cell_type": "markdown",
   "metadata": {},
   "source": [
    "```{=latex}\n",
    "\\end{frame}\n",
    "```"
   ]
  },
  {
   "cell_type": "markdown",
   "metadata": {},
   "source": [
    "## Immutability"
   ]
  },
  {
   "cell_type": "markdown",
   "metadata": {},
   "source": [
    "### Immutable objects"
   ]
  },
  {
   "cell_type": "markdown",
   "metadata": {},
   "source": [
    "```{=latex}\n",
    "\\begin{frame}[fragile]\n",
    "\\frametitle{Immutable objects}\n",
    "```"
   ]
  },
  {
   "cell_type": "code",
   "execution_count": 55,
   "metadata": {},
   "outputs": [],
   "source": [
    "@attr.s(auto_attribs=True, frozen=True)\n",
    "class Stuff:\n",
    "    destination: Any\n",
    "    finput: Any"
   ]
  },
  {
   "cell_type": "code",
   "execution_count": 56,
   "metadata": {
    "tags": [
     "no_markdown"
    ]
   },
   "outputs": [],
   "source": [
    "import io\n",
    "\n",
    "class Destination:\n",
    "    pass"
   ]
  },
  {
   "cell_type": "code",
   "execution_count": 57,
   "metadata": {},
   "outputs": [],
   "source": [
    "my_stuff = Stuff(Destination(), io.StringIO())"
   ]
  },
  {
   "cell_type": "code",
   "execution_count": 58,
   "metadata": {},
   "outputs": [
    {
     "name": "stdout",
     "output_type": "stream",
     "text": [
      "FrozenInstanceError()\n"
     ]
    }
   ],
   "source": [
    "try:\n",
    "    my_stuff.finput = io.StringIO()\n",
    "except Exception as exc:\n",
    "    print(repr(exc))"
   ]
  },
  {
   "cell_type": "markdown",
   "metadata": {},
   "source": [
    "```{=latex}\n",
    "\\end{frame}\n",
    "```"
   ]
  },
  {
   "cell_type": "markdown",
   "metadata": {},
   "source": [
    "### Immutablity as bug avoidance"
   ]
  },
  {
   "cell_type": "markdown",
   "metadata": {},
   "source": [
    "```{=latex}\n",
    "\\begin{frame}[fragile]\n",
    "\\frametitle{Immutablity as bug avoidance}\n",
    "```"
   ]
  },
  {
   "cell_type": "code",
   "execution_count": 59,
   "metadata": {},
   "outputs": [],
   "source": [
    "def some_function(some_list=[]):\n",
    "    pass"
   ]
  },
  {
   "cell_type": "markdown",
   "metadata": {},
   "source": [
    "```{=latex}\n",
    "\\end{frame}\n",
    "```"
   ]
  },
  {
   "cell_type": "markdown",
   "metadata": {},
   "source": [
    "### Immutablity as interface simplifying"
   ]
  },
  {
   "cell_type": "markdown",
   "metadata": {},
   "source": [
    "```{=latex}\n",
    "\\begin{frame}[fragile]\n",
    "\\frametitle{Immutablity as interface simplifying}\n",
    "\n",
    "No variation, no invariant breakage!\n",
    "\\end{frame}\n",
    "```"
   ]
  },
  {
   "cell_type": "markdown",
   "metadata": {},
   "source": [
    "### Frozen attrs"
   ]
  },
  {
   "cell_type": "markdown",
   "metadata": {},
   "source": [
    "```{=latex}\n",
    "\\begin{frame}[fragile]\n",
    "\\frametitle{Change without mutation}\n",
    "```"
   ]
  },
  {
   "cell_type": "code",
   "execution_count": 60,
   "metadata": {},
   "outputs": [],
   "source": [
    "@attr.s(auto_attribs=True, frozen=True)\n",
    "class Point:\n",
    "    x: float\n",
    "    y: float"
   ]
  },
  {
   "cell_type": "code",
   "execution_count": 61,
   "metadata": {},
   "outputs": [],
   "source": [
    "origin = Point(0, 0)"
   ]
  },
  {
   "cell_type": "code",
   "execution_count": 62,
   "metadata": {},
   "outputs": [],
   "source": [
    "up = attr.evolve(origin, y=1)"
   ]
  },
  {
   "cell_type": "code",
   "execution_count": 63,
   "metadata": {},
   "outputs": [
    {
     "data": {
      "text/plain": [
       "(Point(x=0, y=0), Point(x=0, y=1))"
      ]
     },
     "execution_count": 63,
     "metadata": {},
     "output_type": "execute_result"
    }
   ],
   "source": [
    "origin, up"
   ]
  },
  {
   "cell_type": "markdown",
   "metadata": {},
   "source": [
    "```{=latex}\n",
    "\\end{frame}\n",
    "```"
   ]
  },
  {
   "cell_type": "markdown",
   "metadata": {},
   "source": [
    "## Methods"
   ]
  },
  {
   "cell_type": "markdown",
   "metadata": {},
   "source": [
    "### Private methods issues"
   ]
  },
  {
   "cell_type": "markdown",
   "metadata": {},
   "source": [
    "```{=latex}\n",
    "\\begin{frame}[fragile]\n",
    "\\frametitle{Private methods}\n",
    "```"
   ]
  },
  {
   "cell_type": "code",
   "execution_count": 64,
   "metadata": {},
   "outputs": [],
   "source": [
    "class HTTPSession:\n",
    "    def _request(self, method, url):\n",
    "        pass\n",
    "    def get(self, url):\n",
    "        return self._request('GET', url)\n",
    "    def head(self, url):\n",
    "        return self._request('HEAD', url)"
   ]
  },
  {
   "cell_type": "markdown",
   "metadata": {},
   "source": [
    "```{=latex}\n",
    "\\end{frame}\n",
    "```"
   ]
  },
  {
   "cell_type": "markdown",
   "metadata": {},
   "source": [
    "### Refactoring private methods away"
   ]
  },
  {
   "cell_type": "markdown",
   "metadata": {},
   "source": [
    "```{=latex}\n",
    "\\begin{frame}[fragile]\n",
    "\\frametitle{Private methods to separate class}\n",
    "```"
   ]
  },
  {
   "cell_type": "code",
   "execution_count": 65,
   "metadata": {},
   "outputs": [],
   "source": [
    "class RawHTTPSession:\n",
    "    def request(self, method, url):\n",
    "        pass"
   ]
  },
  {
   "cell_type": "markdown",
   "metadata": {},
   "source": [
    "```{=latex}\n",
    "\\end{frame}\n",
    "```"
   ]
  },
  {
   "cell_type": "markdown",
   "metadata": {},
   "source": [
    "```{=latex}\n",
    "\\begin{frame}[fragile]\n",
    "\\frametitle{Private attribute instance}\n",
    "```"
   ]
  },
  {
   "cell_type": "code",
   "execution_count": 66,
   "metadata": {},
   "outputs": [],
   "source": [
    "class HTTPSession:\n",
    "    _raw: RawHTTPSession\n",
    "    def get(self, url):\n",
    "        return self._raw.request('GET', url)\n",
    "    def head(self, url):\n",
    "        return self._raw.request('HEAD', url)"
   ]
  },
  {
   "cell_type": "markdown",
   "metadata": {},
   "source": [
    "```{=latex}\n",
    "\\end{frame}\n",
    "```"
   ]
  },
  {
   "cell_type": "markdown",
   "metadata": {},
   "source": [
    "### Polyomorphism"
   ]
  },
  {
   "cell_type": "markdown",
   "metadata": {},
   "source": [
    "```{=latex}\n",
    "\\begin{frame}[fragile]\n",
    "\\frametitle{Methods}\n",
    "```"
   ]
  },
  {
   "cell_type": "code",
   "execution_count": 67,
   "metadata": {},
   "outputs": [],
   "source": [
    "@attr.s(auto_attribs=True, frozen=True)\n",
    "class Point2D:\n",
    "    x: float\n",
    "    y: float\n",
    "\n",
    "    def distance_from_origin(self):\n",
    "        return (self.x**2 + self.y**2) ** 0.5"
   ]
  },
  {
   "cell_type": "markdown",
   "metadata": {},
   "source": [
    "```{=latex}\n",
    "\\end{frame}\n",
    "```"
   ]
  },
  {
   "cell_type": "markdown",
   "metadata": {},
   "source": [
    "```{=latex}\n",
    "\\begin{frame}[fragile]\n",
    "\\frametitle{Methods}\n",
    "```"
   ]
  },
  {
   "cell_type": "code",
   "execution_count": 68,
   "metadata": {},
   "outputs": [],
   "source": [
    "@attr.s(auto_attribs=True, frozen=True)\n",
    "class Point3D:\n",
    "    x: float\n",
    "    y: float\n",
    "    z: float\n",
    "\n",
    "    def distance_from_origin(self):\n",
    "        return (self.x**2 +\n",
    "                self.y**2 +\n",
    "                self.z**2)"
   ]
  },
  {
   "cell_type": "markdown",
   "metadata": {},
   "source": [
    "```{=latex}\n",
    "\\end{frame}\n",
    "```"
   ]
  },
  {
   "cell_type": "markdown",
   "metadata": {},
   "source": [
    "### Bloating"
   ]
  },
  {
   "cell_type": "markdown",
   "metadata": {},
   "source": [
    "```{=latex}\n",
    "\n",
    "\\begin{frame}[fragile]\n",
    "\\frametitle{Why not methods?}\n",
    "\n",
    "Bloats classes\n",
    "\n",
    "\\end{frame}\n",
    "```"
   ]
  },
  {
   "cell_type": "markdown",
   "metadata": {},
   "source": [
    "### Singledispatch"
   ]
  },
  {
   "cell_type": "markdown",
   "metadata": {},
   "source": [
    "```{=latex}\n",
    "\\begin{frame}[fragile]\n",
    "\\frametitle{Methodless Polymorphism}\n",
    "```"
   ]
  },
  {
   "cell_type": "code",
   "execution_count": 69,
   "metadata": {},
   "outputs": [],
   "source": [
    "@attr.s(auto_attribs=True, frozen=True)\n",
    "class Point2D:\n",
    "    x: float;\n",
    "    y: float"
   ]
  },
  {
   "cell_type": "code",
   "execution_count": 70,
   "metadata": {},
   "outputs": [],
   "source": [
    "@attr.s(auto_attribs=True, frozen=True)\n",
    "class Point3D:\n",
    "    x: float\n",
    "    y: float\n",
    "    z: float"
   ]
  },
  {
   "cell_type": "markdown",
   "metadata": {},
   "source": [
    "```{=latex}\n",
    "\\end{frame}\n",
    "```"
   ]
  },
  {
   "cell_type": "markdown",
   "metadata": {},
   "source": [
    "```{=latex}\n",
    "\\begin{frame}[fragile]\n",
    "\\frametitle{Methodless Polymorphism}\n",
    "```"
   ]
  },
  {
   "cell_type": "code",
   "execution_count": 71,
   "metadata": {},
   "outputs": [],
   "source": [
    "import functools"
   ]
  },
  {
   "cell_type": "code",
   "execution_count": 72,
   "metadata": {},
   "outputs": [],
   "source": [
    "@functools.singledispatch\n",
    "def distance_from_origin(pt):\n",
    "    raise NotImplementedError(point)"
   ]
  },
  {
   "cell_type": "code",
   "execution_count": 73,
   "metadata": {},
   "outputs": [],
   "source": [
    "@distance_from_origin.register(Point2D)\n",
    "def distance_2d(pt):\n",
    "    return (pt.x**2 + pt.y**2) ** 0.5"
   ]
  },
  {
   "cell_type": "code",
   "execution_count": 74,
   "metadata": {},
   "outputs": [],
   "source": [
    "@distance_from_origin.register(Point3D)\n",
    "def distance_3d(pt):\n",
    "    return (pt.x**2 + pt.y**2 + pt.z**2) ** 0.5"
   ]
  },
  {
   "cell_type": "markdown",
   "metadata": {},
   "source": [
    "```{=latex}\n",
    "\\end{frame}\n",
    "```"
   ]
  },
  {
   "cell_type": "markdown",
   "metadata": {},
   "source": [
    "## Inheritance-as-API"
   ]
  },
  {
   "cell_type": "code",
   "execution_count": 75,
   "metadata": {
    "tags": [
     "no_markdown"
    ]
   },
   "outputs": [],
   "source": [
    "from unittest import mock\n",
    "Kernel = generic = basic = mock.MagicMock()"
   ]
  },
  {
   "cell_type": "markdown",
   "metadata": {},
   "source": [
    "### Examples in the wild: Twisted"
   ]
  },
  {
   "cell_type": "markdown",
   "metadata": {},
   "source": [
    "```{=latex}\n",
    "\\begin{frame}[fragile]\n",
    "\\frametitle{Inheritance as API: Twisted}\n",
    "```"
   ]
  },
  {
   "cell_type": "code",
   "execution_count": 76,
   "metadata": {},
   "outputs": [],
   "source": [
    "# From the Twisted tutorial\n",
    "class FingerProtocol(basic.LineReceiver):\n",
    "    def lineReceived(self, user):\n",
    "        self.transport.write(b\"No such user\\r\\n\")\n",
    "        self.transport.loseConnection()"
   ]
  },
  {
   "cell_type": "markdown",
   "metadata": {},
   "source": [
    "```{=latex}\n",
    "\\end{frame}\n",
    "```"
   ]
  },
  {
   "cell_type": "markdown",
   "metadata": {},
   "source": [
    "### Examples in the wild: Django"
   ]
  },
  {
   "cell_type": "markdown",
   "metadata": {},
   "source": [
    "```{=latex}\n",
    "\\begin{frame}[fragile]\n",
    "\\frametitle{Inheritance as API: Django}\n",
    "```"
   ]
  },
  {
   "cell_type": "code",
   "execution_count": 77,
   "metadata": {},
   "outputs": [],
   "source": [
    "# From the Django tutorial\n",
    "class IndexView(generic.ListView):\n",
    "    template_name = 'polls/index.html'\n",
    "    context_object_name = 'latest_question_list'\n",
    "\n",
    "    def get_queryset(self):\n",
    "        \"\"\"Return the last five published questions.\"\"\"\n",
    "        return Question.objects.order_by('-pub_date')[:5]"
   ]
  },
  {
   "cell_type": "markdown",
   "metadata": {},
   "source": [
    "```{=latex}\n",
    "\\end{frame}\n",
    "```"
   ]
  },
  {
   "cell_type": "markdown",
   "metadata": {},
   "source": [
    "### Examples in the wild: Jupyter"
   ]
  },
  {
   "cell_type": "markdown",
   "metadata": {},
   "source": [
    "```{=latex}\n",
    "\\begin{frame}[fragile]\n",
    "\\frametitle{Inheritance as API: Jupyter}\n",
    "```"
   ]
  },
  {
   "cell_type": "code",
   "execution_count": 78,
   "metadata": {},
   "outputs": [],
   "source": [
    "# From the Jupyter documentation\n",
    "\n",
    "class EchoKernel(Kernel):\n",
    "    implementation = 'Echo'\n",
    "    implementation_version = '1.0'\n",
    "    language = 'no-op'\n",
    "    language_version = '0.1'\n",
    "    language_info = {\n",
    "        'name': 'Any text',\n",
    "        'mimetype': 'text/plain',\n",
    "        'file_extension': '.txt',\n",
    "    }\n",
    "    banner = \"Echo kernel - as useful as a parrot\"\n",
    "\n",
    "    def do_execute(self, code, silent, store_history=True, user_expressions=None,\n",
    "                   allow_stdin=False):\n",
    "        ..."
   ]
  },
  {
   "cell_type": "markdown",
   "metadata": {},
   "source": [
    "```{=latex}\n",
    "\\end{frame}\n",
    "```"
   ]
  },
  {
   "cell_type": "markdown",
   "metadata": {},
   "source": [
    "### Issues"
   ]
  },
  {
   "cell_type": "markdown",
   "metadata": {},
   "source": [
    "```{=latex}\n",
    "\\begin{frame}[fragile]\n",
    "\\frametitle{Inheritance as API: Issues}\n",
    "\n",
    "\"Shared everything\"\n",
    "\\end{frame}\n",
    "```"
   ]
  },
  {
   "cell_type": "markdown",
   "metadata": {},
   "source": [
    "### Composition"
   ]
  },
  {
   "cell_type": "markdown",
   "metadata": {},
   "source": [
    "```{=latex}\n",
    "\\begin{frame}[fragile]\n",
    "\\frametitle{Composition}\n",
    "\n",
    "\\begin{itemize}\n",
    "\\item Define {\\em interface}\n",
    "\\item Useful behavior in {\\em referred class}\n",
    "\\end{itemize}\n",
    "\n",
    "\\end{frame}\n",
    "```"
   ]
  },
  {
   "cell_type": "markdown",
   "metadata": {},
   "source": [
    "```{=latex}\n",
    "\\begin{frame}[fragile]\n",
    "\\frametitle{Composition: Example}\n",
    "```"
   ]
  },
  {
   "cell_type": "code",
   "execution_count": 79,
   "metadata": {},
   "outputs": [],
   "source": [
    "class IMovable(interface.Interface):\n",
    "    x_position = interface.Attribute(\"x coordinate\")\n",
    "    y_position = interface.Attribute(\"y coordinate\")\n",
    "    def tick():\n",
    "        pass"
   ]
  },
  {
   "cell_type": "markdown",
   "metadata": {},
   "source": [
    "```{=latex}\n",
    "\\end{frame}\n",
    "```"
   ]
  },
  {
   "cell_type": "markdown",
   "metadata": {},
   "source": [
    "```{=latex}\n",
    "\\begin{frame}[fragile]\n",
    "\\frametitle{Composition: Example}\n",
    "```"
   ]
  },
  {
   "cell_type": "code",
   "execution_count": 80,
   "metadata": {},
   "outputs": [],
   "source": [
    "@interface.implementer(IMovable)\n",
    "@attr.s(auto_attribs=True)\n",
    "class StraightLine:\n",
    "    dx: float\n",
    "    dy: float\n",
    "    x_position: float\n",
    "    y_position: float\n",
    "    def tick(self):\n",
    "        self.x_position += dx\n",
    "        self.y_position += dy"
   ]
  },
  {
   "cell_type": "markdown",
   "metadata": {},
   "source": [
    "```{=latex}\n",
    "\\end{frame}\n",
    "```"
   ]
  },
  {
   "cell_type": "markdown",
   "metadata": {},
   "source": [
    "```{=latex}\n",
    "\\begin{frame}[fragile]\n",
    "\\frametitle{Composition: Example}\n",
    "```"
   ]
  },
  {
   "cell_type": "code",
   "execution_count": 81,
   "metadata": {},
   "outputs": [],
   "source": [
    "@interface.implementer(IMovable)\n",
    "@attr.s(auto_attribs=True)\n",
    "class Sprite:\n",
    "     _movable: IMovable\n",
    "     @property\n",
    "     def x_position(self):\n",
    "         return self._movable.x_position\n",
    "     @property\n",
    "     def y_position(self):\n",
    "         return self._movable.y_position\n",
    "     def tick(self):\n",
    "         return self._movable.tick()"
   ]
  },
  {
   "cell_type": "markdown",
   "metadata": {},
   "source": [
    "```{=latex}\n",
    "\\end{frame}\n",
    "```"
   ]
  },
  {
   "cell_type": "markdown",
   "metadata": {},
   "source": [
    "## Wrap-up"
   ]
  },
  {
   "cell_type": "markdown",
   "metadata": {},
   "source": [
    "### No rules"
   ]
  },
  {
   "cell_type": "markdown",
   "metadata": {},
   "source": [
    "```{=latex}\n",
    "\\begin{frame}[fragile]\n",
    "\\frametitle{Python: Language of the free}\n",
    "\n",
    "Diamond inheritance with overriddable constructors as mandatory interface?\n",
    "Sure!\n",
    "\\end{frame}\n",
    "```"
   ]
  },
  {
   "cell_type": "markdown",
   "metadata": {},
   "source": [
    "```{=latex}\n",
    "\\begin{frame}[fragile]\n",
    "\\frametitle{Python: With Great Power}\n",
    "\n",
    "Diamond inheritance with overriddable constructors as mandatory interface?\n",
    "\n",
    "Maybe not...\n",
    "\\end{frame}\n",
    "```"
   ]
  },
  {
   "cell_type": "markdown",
   "metadata": {},
   "source": [
    "### Opaque lessons"
   ]
  },
  {
   "cell_type": "markdown",
   "metadata": {},
   "source": [
    "```{=latex}\n",
    "\\begin{frame}[fragile]\n",
    "\\frametitle{Opaque lessons learned}\n",
    "\n",
    "\\begin{itemize}\n",
    "\\item Do as we say, not as we do\n",
    "\\item Big systems, big headaches\n",
    "\\end{itemize}\n",
    "\\end{frame}\n",
    "```"
   ]
  },
  {
   "cell_type": "markdown",
   "metadata": {},
   "source": [
    "### Principles"
   ]
  },
  {
   "cell_type": "markdown",
   "metadata": {},
   "source": [
    "```{=latex}\n",
    "\\begin{frame}[fragile]\n",
    "\\frametitle{Less interesting code}\n",
    "\n",
    "Be dumb as possible when writing code.\n",
    "\n",
    "\\end{frame}\n",
    "```"
   ]
  },
  {
   "cell_type": "markdown",
   "metadata": {},
   "source": [
    "```{=latex}\n",
    "\\end{document}\n",
    "```"
   ]
  },
  {
   "cell_type": "code",
   "execution_count": null,
   "metadata": {},
   "outputs": [],
   "source": []
  }
 ],
 "metadata": {
  "kernelspec": {
   "display_name": "boring-objects-by",
   "language": "python",
   "name": "boring-objects-by-venv"
  },
  "language_info": {
   "codemirror_mode": {
    "name": "ipython",
    "version": 3
   },
   "file_extension": ".py",
   "mimetype": "text/x-python",
   "name": "python",
   "nbconvert_exporter": "python",
   "pygments_lexer": "ipython3",
   "version": "3.9.0"
  }
 },
 "nbformat": 4,
 "nbformat_minor": 4
}
